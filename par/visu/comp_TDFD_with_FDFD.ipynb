{
 "cells": [
  {
   "cell_type": "markdown",
   "metadata": {},
   "source": [
    "**Compare shot gather of TDFD and FDFD modelling results**<br />\n",
    "Daniel Köhn<br />\n",
    "Kiel, 10.07.2017"
   ]
  },
  {
   "cell_type": "markdown",
   "metadata": {},
   "source": [
    "**Import necessary packages**"
   ]
  },
  {
   "cell_type": "code",
   "execution_count": null,
   "metadata": {
    "collapsed": true
   },
   "outputs": [],
   "source": [
    "import obspy\n",
    "from obspy import read\n",
    "import numpy as np\n",
    "import matplotlib as plt\n",
    "import matplotlib.pyplot as plt\n",
    "from matplotlib.pyplot import gca\n",
    "import matplotlib as mpl\n",
    "from pylab import rcParams\n",
    "from matplotlib import rc\n",
    "from scipy import interpolate\n",
    "#%matplotlib notebook"
   ]
  },
  {
   "cell_type": "markdown",
   "metadata": {},
   "source": [
    "__Pre-processing parameters__"
   ]
  },
  {
   "cell_type": "code",
   "execution_count": null,
   "metadata": {
    "collapsed": true
   },
   "outputs": [],
   "source": [
    "CONV_STF = 0   # convolve spike response with source wavelet"
   ]
  },
  {
   "cell_type": "markdown",
   "metadata": {},
   "source": [
    "**Define parameters for data visualization**"
   ]
  },
  {
   "cell_type": "code",
   "execution_count": null,
   "metadata": {
    "collapsed": true
   },
   "outputs": [],
   "source": [
    "clip = 1e1      # data clip\n",
    "shotno = 1      # shot number"
   ]
  },
  {
   "cell_type": "markdown",
   "metadata": {},
   "source": [
    "**Font properties**"
   ]
  },
  {
   "cell_type": "code",
   "execution_count": null,
   "metadata": {
    "collapsed": true
   },
   "outputs": [],
   "source": [
    "FSize = 15\n",
    "font = {'color':  'black',\n",
    "        'weight': 'bold',\n",
    "        'size': FSize}\n",
    "mpl.rc('xtick', labelsize=FSize) \n",
    "mpl.rc('ytick', labelsize=FSize) \n",
    "rcParams['figure.figsize'] = 15, 15"
   ]
  },
  {
   "cell_type": "markdown",
   "metadata": {},
   "source": [
    "**Read modelled Marmousi-2 TD data**"
   ]
  },
  {
   "cell_type": "code",
   "execution_count": null,
   "metadata": {
    "collapsed": true
   },
   "outputs": [],
   "source": [
    "str_shotno = \"%0.*f\" %(0,np.fix(shotno))    # shotnumber2str\n",
    "filename = \"../../../DENISE-Black-Edition/par/su/DENISE_MARMOUSI_p.su.shot\" + str_shotno\n",
    "data = read(filename, unpack_trace_headers=True)"
   ]
  },
  {
   "cell_type": "markdown",
   "metadata": {},
   "source": [
    "**Apply lowpass Butterworth filter**"
   ]
  },
  {
   "cell_type": "code",
   "execution_count": null,
   "metadata": {
    "collapsed": true
   },
   "outputs": [],
   "source": [
    "#data.filter('lowpass', freq=8.0, corners=6, zerophase=False)"
   ]
  },
  {
   "cell_type": "markdown",
   "metadata": {},
   "source": [
    "**Extract traces and header information from data stream**"
   ]
  },
  {
   "cell_type": "code",
   "execution_count": null,
   "metadata": {
    "collapsed": true
   },
   "outputs": [],
   "source": [
    "# number of traces, time samples and sample interval\n",
    "ntr = len(data.traces)\n",
    "ns = len(data.traces[0].data)                                   \n",
    "dt = data.traces[0].stats.delta                                 \n",
    "\n",
    "# x- and y-source coordinates from trace header\n",
    "xsrc = data.traces[0].stats.su.trace_header.source_coordinate_x\n",
    "ysrc = data.traces[0].stats.su.trace_header.source_coordinate_y\n",
    "\n",
    "# allocate memory for traces and receiver positions\n",
    "traces = np.zeros((ns, ntr))\n",
    "xrec = np.zeros((1, ntr))\n",
    "yrec = np.zeros((1, ntr))\n",
    "\n",
    "i=0\n",
    "for tr in data.traces:\n",
    "    \n",
    "    # extract traces\n",
    "    traces[:, i] = tr.data[:]\n",
    "    \n",
    "    # x- and y-receiver coordinates from trace header\n",
    "    xrec[0,i] = data.traces[i].stats.su.trace_header.group_coordinate_x\n",
    "    yrec[0,i] = data.traces[i].stats.su.trace_header.group_coordinate_y\n",
    "    \n",
    "    i += 1\n",
    "\n",
    "# flip traces\n",
    "traces = np.flipud(traces)\n",
    "    \n",
    "# offset [km]    \n",
    "offset = (xrec - xsrc) / 1e6"
   ]
  },
  {
   "cell_type": "markdown",
   "metadata": {},
   "source": [
    "**Read Marmousi-2 FD data**"
   ]
  },
  {
   "cell_type": "code",
   "execution_count": null,
   "metadata": {
    "collapsed": true
   },
   "outputs": [],
   "source": [
    "# number of frequencies nf and frequency interval df\n",
    "FC_low = 0.015\n",
    "FC_high = 15.0\n",
    "\n",
    "nf = 1000\n",
    "df = (FC_high - FC_low) / nf\n",
    "\n",
    "# define size arrays of real and imaginary parts\n",
    "FD_real = np.zeros((nf, ntr))\n",
    "FD_cmplx = np.zeros((nf, ntr))\n",
    "\n",
    "# define binary data type\n",
    "data_type = np.dtype ('float32').newbyteorder ('<')\n",
    "\n",
    "for i in range (nf):\n",
    "\n",
    "    str_nf = \"%0.*f\" %(0,np.fix(i+1))    # nf2str\n",
    "    input_file = \"../seis/marmousi_p_shot_1_stage_1_nfreq_\" + str_nf + \".bin\"\n",
    "    \n",
    "    fp = open(input_file)\n",
    "    tmp = np.fromfile (fp, dtype=data_type)\n",
    "    tmp1 = tmp.reshape(1,2*ntr)\n",
    "\n",
    "    # collect FDFD data in arrays\n",
    "    FD_real[i,:] = tmp[0:2*ntr:2]\n",
    "    FD_cmplx[i,:] = tmp[1:2*ntr:2]\n",
    "    \n",
    "    # clean memory\n",
    "    tmp = None\n",
    "    tmp2 = None\n",
    "    \n",
    "# assemble complex data\n",
    "FDFD = FD_real + 1j*FD_cmplx\n",
    "tmp = np.concatenate((FDFD, np.zeros((nf, ntr)), np.zeros((nf, ntr)), np.flipud(FDFD)))\n",
    "FDFD = None\n",
    "FDFD = tmp\n",
    "\n",
    "# transformation from FD to TD\n",
    "FD2TD = np.fft.ifft(FDFD,axis=0)\n",
    "FD2TD = np.real(FD2TD)"
   ]
  },
  {
   "cell_type": "code",
   "execution_count": null,
   "metadata": {
    "collapsed": true
   },
   "outputs": [],
   "source": [
    "#plt.imshow(np.real(tmp))\n",
    "#plt.show()"
   ]
  },
  {
   "cell_type": "markdown",
   "metadata": {},
   "source": [
    "**Extract FD2TD up to TmaxTD and resample FD2TD from dtFD to dt**"
   ]
  },
  {
   "cell_type": "code",
   "execution_count": null,
   "metadata": {
    "collapsed": true
   },
   "outputs": [],
   "source": [
    "TmaxTD = dt * ns       # maximum time TD\n",
    "TmaxFD = 0.25 / df     # maximum time FD\n",
    "dtFD = TmaxFD / nf     # time sampling FD\n",
    "\n",
    "# maximum time sample of FD2TD corresponding to TmaxTD\n",
    "nmaxFD = np.int(TmaxTD / dtFD)\n",
    "\n",
    "# extract FD2TD data up to TmaxTD\n",
    "tmp1 = FD2TD[1:nmaxFD,:]\n",
    "FD2DTD = None\n",
    "\n",
    "# define time samples in time and frequency domain\n",
    "tTD = np.arange(0.0, TmaxTD, dt)\n",
    "tFD = np.arange(0.0, TmaxTD - 2*dtFD, dtFD)\n",
    "offset_1 = np.arange(0, ntr, 1)\n",
    "\n",
    "# interpolate tmp values at tTD\n",
    "ftmp = interpolate.interp2d(offset_1, tFD, tmp1, kind='cubic')\n",
    "tmp1 = ftmp(offset_1, tTD)\n",
    "FD2TD = np.flipud(tmp1)\n",
    "\n",
    "# clean memory\n",
    "tmp = None\n",
    "ftmp = None"
   ]
  },
  {
   "cell_type": "code",
   "execution_count": null,
   "metadata": {},
   "outputs": [],
   "source": [
    "print(np.shape(tFD), np.shape(offset_1), np.shape(tmp1))"
   ]
  },
  {
   "cell_type": "markdown",
   "metadata": {},
   "source": [
    "**Convolve FDFD result with TD source wavelet**"
   ]
  },
  {
   "cell_type": "code",
   "execution_count": null,
   "metadata": {
    "collapsed": true
   },
   "outputs": [],
   "source": [
    "if CONV_STF == 1:\n",
    "    # load TD source wavelet\n",
    "    filename = \"../../../DENISE-Black-Edition/par/start/marmousi_II_marine_source_signal.0.su.shot\" + str_shotno\n",
    "    data_stf = read(filename, unpack_trace_headers=True)\n",
    "\n",
    "    # extract TD source wavelet\n",
    "    stf = np.zeros((ns, 1))\n",
    "\n",
    "    i=0\n",
    "    for tr in data_stf.traces:\n",
    "        stf[:, i] = tr.data[:]\n",
    "    \n",
    "    # convolve source wavelet with FD2TD data\n",
    "    for i in range (ntr): \n",
    "        u = np.convolve(tmp1[:,i], stf[:,0])[0:ns]\n",
    "        tmp1[:,i] = u"
   ]
  },
  {
   "cell_type": "markdown",
   "metadata": {},
   "source": [
    "**Normalize data**"
   ]
  },
  {
   "cell_type": "code",
   "execution_count": null,
   "metadata": {
    "collapsed": true
   },
   "outputs": [],
   "source": [
    "max_TD = np.max(traces)\n",
    "max_FD = np.max(tmp1)\n",
    "tmp1 = tmp1 * max_TD / max_FD\n",
    "FD2TD = np.flipud(tmp1)\n",
    "\n",
    "tmp1 = None"
   ]
  },
  {
   "cell_type": "markdown",
   "metadata": {},
   "source": [
    "**Plot shot gather**"
   ]
  },
  {
   "cell_type": "code",
   "execution_count": null,
   "metadata": {
    "collapsed": true
   },
   "outputs": [],
   "source": [
    "def do_plot(n, model, cm, an, title, clip):\n",
    "    \n",
    "    ax=plt.subplot(1, 2, n)\n",
    "    extent = [np.min(offset), np.max(offset), dt, dt*ns]\n",
    "\n",
    "    plt.rc('font',**{'family':'sans-serif','sans-serif':['Helvetica']})\n",
    "    plt.rc('text', usetex=True)\n",
    "\n",
    "    im = plt.imshow(model, cmap=cm, interpolation='bicubic', extent=extent, vmin=-clip, vmax=clip)\n",
    "\n",
    "    a = gca()\n",
    "    a.set_xticklabels(a.get_xticks(), font)\n",
    "    a.set_yticklabels(a.get_yticks(), font)\n",
    "\n",
    "    plt.title(title, fontdict=font)\n",
    "    if n==1:\n",
    "        plt.ylabel('Time [s]', fontdict=font)\n",
    "    plt.xlabel('Offset [km]', fontdict=font)\n",
    "    plt.gca().invert_yaxis()"
   ]
  },
  {
   "cell_type": "code",
   "execution_count": null,
   "metadata": {},
   "outputs": [],
   "source": [
    "plt.close('all')\n",
    "plt.figure()\n",
    "do_plot(1, traces, 'gray', '(a)', r\"Marmousi-2 TDFD (DENISE Black-Edition)\", clip)\n",
    "do_plot(2, FD2TD, 'gray', '(b)', r\"Marmousi-2 FDFD (GERMAINE)\", clip)\n",
    "plt.tight_layout()\n",
    "output_file = \"Marmousi_shot_\" + str_shotno + \"_TDFD_FDFD.pdf\"\n",
    "plt.savefig(output_file, bbox_inches='tight', format='pdf')\n",
    "plt.show()"
   ]
  },
  {
   "cell_type": "code",
   "execution_count": null,
   "metadata": {
    "collapsed": true
   },
   "outputs": [],
   "source": []
  }
 ],
 "metadata": {
  "kernelspec": {
   "display_name": "Python 2",
   "language": "python",
   "name": "python2"
  },
  "language_info": {
   "codemirror_mode": {
    "name": "ipython",
    "version": 2
   },
   "file_extension": ".py",
   "mimetype": "text/x-python",
   "name": "python",
   "nbconvert_exporter": "python",
   "pygments_lexer": "ipython2",
   "version": "2.7.13"
  }
 },
 "nbformat": 4,
 "nbformat_minor": 2
}
