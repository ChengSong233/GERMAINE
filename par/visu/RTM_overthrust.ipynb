{
 "cells": [
  {
   "cell_type": "markdown",
   "metadata": {},
   "source": [
    "**Plot Overthrust RTM Results**\n",
    "\n",
    "**Daniel Köhn**\n",
    "\n",
    "**Kiel, 02/04/2016**\n",
    "\n",
    "**Import necessary packages**"
   ]
  },
  {
   "cell_type": "code",
   "execution_count": null,
   "metadata": {
    "collapsed": true
   },
   "outputs": [],
   "source": [
    "from __future__ import division\n",
    "import matplotlib.pyplot as plt\n",
    "import matplotlib as mpl\n",
    "import numpy as np\n",
    "from matplotlib.colors import LightSource, Normalize\n",
    "from matplotlib.pyplot import gca\n",
    "from pylab import rcParams\n",
    "from matplotlib import rc\n",
    "import scipy.ndimage.filters\n",
    "from scipy.ndimage.filters import gaussian_filter\n",
    "from scipy.signal import hilbert\n",
    "from mpl_toolkits.axes_grid1 import make_axes_locatable\n",
    "import pickle"
   ]
  },
  {
   "cell_type": "markdown",
   "metadata": {},
   "source": [
    "**Activate different post-processing options**"
   ]
  },
  {
   "cell_type": "code",
   "execution_count": null,
   "metadata": {
    "collapsed": true
   },
   "outputs": [],
   "source": [
    "ENVELOPE=0;\n",
    "GAUSSIAN=1;"
   ]
  },
  {
   "cell_type": "markdown",
   "metadata": {},
   "source": [
    "**FD grid dimensions **"
   ]
  },
  {
   "cell_type": "code",
   "execution_count": null,
   "metadata": {
    "collapsed": true
   },
   "outputs": [],
   "source": [
    "DH = 25.0;\n",
    "NX = 800;\n",
    "NY = 186;"
   ]
  },
  {
   "cell_type": "markdown",
   "metadata": {},
   "source": [
    "**Define Axis**"
   ]
  },
  {
   "cell_type": "code",
   "execution_count": null,
   "metadata": {},
   "outputs": [],
   "source": [
    "x = np.arange(0.0, DH*NX, DH)\n",
    "y = np.arange(0.0, DH*NY, DH)"
   ]
  },
  {
   "cell_type": "markdown",
   "metadata": {},
   "source": [
    "**Define fonts**"
   ]
  },
  {
   "cell_type": "code",
   "execution_count": null,
   "metadata": {},
   "outputs": [],
   "source": [
    "FSize = 20\n",
    "font = {'color':  'black',\n",
    "        'weight': 'bold',\n",
    "        'size': FSize}\n",
    "mpl.rc('xtick', labelsize=FSize) \n",
    "mpl.rc('ytick', labelsize=FSize) \n",
    "rcParams['figure.figsize'] = 12, 7"
   ]
  },
  {
   "cell_type": "markdown",
   "metadata": {},
   "source": [
    "**Read S-wave velocity model and RTM result**"
   ]
  },
  {
   "cell_type": "code",
   "execution_count": null,
   "metadata": {},
   "outputs": [],
   "source": [
    "#f = open ('../start/overthrust_start_smooth2.vp')\n",
    "f = open ('../FWI_GERMAINE/29_09_2016_lbfgs_app_Hessian/overthrust_fwi_smooth.vp')\n",
    "data_type = np.dtype ('float32').newbyteorder ('<')\n",
    "vp = np.fromfile (f, dtype=data_type)\n",
    "vp = vp.reshape(NX,NY)\n",
    "vp = np.transpose(vp)\n",
    "vp = np.flipud(vp)"
   ]
  },
  {
   "cell_type": "code",
   "execution_count": null,
   "metadata": {},
   "outputs": [],
   "source": [
    "f1 = open ('29_09_2016_fwi/modelTest_p_image.bin')\n",
    "#f1 = open ('21_08_2016_smooth2/modelTest_p_image.bin')\n",
    "RTM = np.fromfile (f1, dtype=data_type)\n",
    "RTM = RTM.reshape(NX,NY)\n",
    "RTM = np.transpose(RTM)\n",
    "RTM = np.flipud(RTM)\n",
    "RTM = scipy.ndimage.filters.laplace(RTM) # suppress low-wavenumber artifacts in image "
   ]
  },
  {
   "cell_type": "markdown",
   "metadata": {},
   "source": [
    "**Scale RTM result with depth**"
   ]
  },
  {
   "cell_type": "code",
   "execution_count": null,
   "metadata": {},
   "outputs": [],
   "source": [
    "RTM_scale = np.zeros((NX,NY))\n",
    "RTM_scale += np.flipud(y)**2\n",
    "RTM*=RTM_scale.transpose()"
   ]
  },
  {
   "cell_type": "markdown",
   "metadata": {},
   "source": [
    "**Apply Gaussian filter**"
   ]
  },
  {
   "cell_type": "code",
   "execution_count": null,
   "metadata": {
    "collapsed": true
   },
   "outputs": [],
   "source": [
    "if(GAUSSIAN==1):\n",
    "    RTM = gaussian_filter(RTM, sigma=[1,3])"
   ]
  },
  {
   "cell_type": "markdown",
   "metadata": {},
   "source": [
    "**Calculate Envelope**"
   ]
  },
  {
   "cell_type": "code",
   "execution_count": null,
   "metadata": {
    "collapsed": true
   },
   "outputs": [],
   "source": [
    "if(ENVELOPE==1):\n",
    "    analytic_signal = hilbert(RTM,axis=-1)\n",
    "    RTM = np.abs(analytic_signal)\n",
    "    RTM = gaussian_filter(RTM, sigma=[3,1])"
   ]
  },
  {
   "cell_type": "markdown",
   "metadata": {},
   "source": [
    "**Plot $\\alpha$-Blending of Vp FWI result (Jet) and Laplace-filtered RTM result (Gray)**"
   ]
  },
  {
   "cell_type": "code",
   "execution_count": null,
   "metadata": {},
   "outputs": [],
   "source": [
    "def do_plot(n, an, title):\n",
    "    ax=plt.subplot(2, 1, n)\n",
    "    extent = [0.0,NX*DH/1000.0,0.0,NY*DH/1000.0]\n",
    "    #cmax = 2.5e11 # Overthrust (initial model)\n",
    "    cmax = 3e-2 # Overthrust (FWI)\n",
    "    cmin = -cmax\n",
    "\n",
    "    plt.rc('font',**{'family':'sans-serif','sans-serif':['Helvetica']})\n",
    "    plt.rc('text', usetex=True)\n",
    "\n",
    "    if(n==1):\n",
    "        im1 = plt.imshow(vp, cmap=plt.cm.jet, interpolation='nearest', extent=extent)\n",
    "        plt.hold(True)\n",
    "\n",
    "    im2 = plt.imshow(RTM, cmap=plt.cm.gray, alpha=.70, interpolation='bicubic',\n",
    "                 extent=extent, vmin=cmin, vmax=cmax)\n",
    "\n",
    "    a = gca()\n",
    "    a.set_xticklabels(a.get_xticks(), font)\n",
    "    a.set_yticklabels(a.get_yticks(), font)\n",
    "    #plt.axis('scaled')\n",
    "    plt.title(title, fontdict=font)\n",
    "    plt.ylabel('Depth [km]', fontdict=font)\n",
    "    if(n==2):\n",
    "        plt.xlabel('Distance [km]', fontdict=font)\n",
    "    plt.gca().invert_yaxis()\n",
    "    plt.text(0.1, 0.6,an,fontdict=font,color='white')\n",
    "    #cbar=plt.colorbar()\n",
    "    #cbar.set_label('Vp[m/s]', fontdict=font, labelpad=1)"
   ]
  },
  {
   "cell_type": "markdown",
   "metadata": {},
   "source": [
    "__Plot SubPlots__"
   ]
  },
  {
   "cell_type": "code",
   "execution_count": null,
   "metadata": {
    "collapsed": true
   },
   "outputs": [],
   "source": [
    "plt.close('all')\n",
    "plt.figure()\n",
    "do_plot(1, '(a)', r\"Overthrust-RTM (smooth FWI result)\")\n",
    "do_plot(2, '(b)', r\" \")\n",
    "#plt.savefig('test.png', format='png', dpi=100)\n",
    "plt.savefig('test.pdf', bbox_inches='tight', format='pdf')\n",
    "plt.tight_layout()\n",
    "plt.show()"
   ]
  },
  {
   "cell_type": "code",
   "execution_count": null,
   "metadata": {
    "collapsed": true
   },
   "outputs": [],
   "source": []
  }
 ],
 "metadata": {
  "kernelspec": {
   "display_name": "Python 2",
   "language": "python",
   "name": "python2"
  },
  "language_info": {
   "codemirror_mode": {
    "name": "ipython",
    "version": 2
   },
   "file_extension": ".py",
   "mimetype": "text/x-python",
   "name": "python",
   "nbconvert_exporter": "python",
   "pygments_lexer": "ipython2",
   "version": "2.7.13"
  }
 },
 "nbformat": 4,
 "nbformat_minor": 1
}
