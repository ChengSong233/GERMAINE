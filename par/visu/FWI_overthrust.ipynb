{
 "cells": [
  {
   "cell_type": "markdown",
   "metadata": {},
   "source": [
    "__Compare FWI result with true model for the Overthrust model__\n",
    "\n",
    "Daniel Köhn \n",
    "Kiel, 16/07/2016"
   ]
  },
  {
   "cell_type": "markdown",
   "metadata": {},
   "source": [
    "__Import Libraries__"
   ]
  },
  {
   "cell_type": "code",
   "execution_count": null,
   "metadata": {
    "collapsed": true
   },
   "outputs": [],
   "source": [
    "import matplotlib.pyplot as plt\n",
    "import matplotlib as mpl\n",
    "import numpy as np\n",
    "from matplotlib.colors import LightSource, Normalize\n",
    "from matplotlib.pyplot import gca\n",
    "from pylab import rcParams\n",
    "from matplotlib import rc\n",
    "from matplotlib.ticker import FormatStrFormatter\n",
    "from mpl_toolkits.axes_grid1 import make_axes_locatable\n",
    "import pickle"
   ]
  },
  {
   "cell_type": "markdown",
   "metadata": {},
   "source": [
    "__Import Colormap__"
   ]
  },
  {
   "cell_type": "code",
   "execution_count": null,
   "metadata": {
    "collapsed": true
   },
   "outputs": [],
   "source": [
    "fp = open('cmap_overthrust.pkl', 'rb')\n",
    "my_cmap_cm = pickle.load(fp)\n",
    "fp.close()"
   ]
  },
  {
   "cell_type": "markdown",
   "metadata": {},
   "source": [
    "__FD grid dimensions__"
   ]
  },
  {
   "cell_type": "code",
   "execution_count": null,
   "metadata": {
    "collapsed": true
   },
   "outputs": [],
   "source": [
    "DH = 25.0;\n",
    "NX = 800;\n",
    "NY = 186;"
   ]
  },
  {
   "cell_type": "markdown",
   "metadata": {},
   "source": [
    "__Wavefield clip value__ "
   ]
  },
  {
   "cell_type": "code",
   "execution_count": null,
   "metadata": {
    "collapsed": true
   },
   "outputs": [],
   "source": [
    "vpmin = 2360.0;\n",
    "vpmax = 6000.0;"
   ]
  },
  {
   "cell_type": "markdown",
   "metadata": {},
   "source": [
    "__Define fonts__"
   ]
  },
  {
   "cell_type": "code",
   "execution_count": null,
   "metadata": {},
   "outputs": [],
   "source": [
    "FSize = 20\n",
    "font = {'color':  'black',\n",
    "        'weight': 'normal',\n",
    "        'size': FSize}\n",
    "mpl.rc('xtick', labelsize=FSize) \n",
    "mpl.rc('ytick', labelsize=FSize) \n",
    "rcParams['figure.figsize'] = 16, 8"
   ]
  },
  {
   "cell_type": "markdown",
   "metadata": {},
   "source": [
    "__Read FWI result and true model__"
   ]
  },
  {
   "cell_type": "code",
   "execution_count": null,
   "metadata": {},
   "outputs": [],
   "source": [
    "f = open(\"../start/overthrust_true.vp\")\n",
    "data_type = np.dtype ('float32').newbyteorder ('<')\n",
    "mod_true = np.fromfile (f, dtype=data_type)\n",
    "mod_true = mod_true.reshape(NX,NY)\n",
    "mod_true = np.transpose(mod_true)\n",
    "mod_true = np.flipud(mod_true)"
   ]
  },
  {
   "cell_type": "code",
   "execution_count": null,
   "metadata": {},
   "outputs": [],
   "source": [
    "f = open(\"29_09_2016_lbfgs_app_Hessian/modelTest_vp_stage_8.bin\")\n",
    "#f = open(\"../start/overthrust_start_smooth2.vp\")\n",
    "data_type = np.dtype ('float32').newbyteorder ('<')\n",
    "mod_fwi = np.fromfile (f, dtype=data_type)\n",
    "mod_fwi = mod_fwi.reshape(NX,NY)\n",
    "mod_fwi = np.transpose(mod_fwi)\n",
    "mod_fwi = np.flipud(mod_fwi)"
   ]
  },
  {
   "cell_type": "markdown",
   "metadata": {},
   "source": [
    "__Define Axis__"
   ]
  },
  {
   "cell_type": "code",
   "execution_count": null,
   "metadata": {},
   "outputs": [],
   "source": [
    "x = np.arange(0.0, DH*NX, DH)\n",
    "y = np.arange(0.0, DH*NY, DH)\n",
    "x = np.divide(x,1000.0);\n",
    "y = np.divide(y,1000.0);"
   ]
  },
  {
   "cell_type": "markdown",
   "metadata": {},
   "source": [
    "__Define SubPlot__"
   ]
  },
  {
   "cell_type": "code",
   "execution_count": null,
   "metadata": {},
   "outputs": [],
   "source": [
    "def do_plot(n, model, cm, an, title, vpmin, vpmax):\n",
    "    \n",
    "    ax=plt.subplot(2, 1, n)\n",
    "    ax.set_xticks([1, 2, 3, 4, 5, 6, 7, 8, 9, 10, 11, 12, 13, 14, 15, 16, 17, 18, 19, 20])\n",
    "    ax.set_yticks([1, 2, 3, 4, 5])\n",
    "    \n",
    "    #plt.rc('font',**{'family':'sans-serif','sans-serif':['Helvetica']})\n",
    "    rc('font',**{'family':'sans-serif','sans-serif':['Helvetica']})\n",
    "    ## for Palatino and other serif fonts use:\n",
    "    #rc('font',**{'family':'serif','serif':['Palatino']})\n",
    "    #plt.rc('text', usetex=True)\n",
    "    rc('text', usetex=True)\n",
    "    \n",
    "    # plt.pcolor(x, y, vp, cmap=cm, vmin=vpmin)\n",
    "    im1 = plt.imshow(model, cmap=cm, interpolation='none', extent=[0.0,NX*DH/1000.0,0.0,NY*DH/1000.0], vmin=vpmin, vmax=vpmax)\n",
    "    a = gca()\n",
    "    a.set_xticklabels(a.get_xticks(), font)\n",
    "    a.set_yticklabels(a.get_yticks(), font)\n",
    "    plt.axis('scaled')\n",
    "    plt.title(title, fontdict=font)\n",
    "    plt.ylabel('Depth [km]', fontdict=font)\n",
    "    if n==2:\n",
    "        plt.xlabel('Distance [km]', fontdict=font)\n",
    "    plt.gca().invert_yaxis()\n",
    "    \n",
    "    # add annotation\n",
    "    plt.text(0.1, 0.4,an,fontdict=font,color='white')\n",
    "    \n",
    "    # fit and label colorbar\n",
    "    divider = make_axes_locatable(ax)\n",
    "    cax = divider.append_axes(\"right\", size=\"2.5%\", pad=0.05)\n",
    "    cbar = plt.colorbar(im1, cax=cax)\n",
    "    cbar.set_label(r\"Vp [m/s]\", fontdict=font, labelpad=1)"
   ]
  },
  {
   "cell_type": "markdown",
   "metadata": {},
   "source": [
    "__Plot SubPlots__"
   ]
  },
  {
   "cell_type": "code",
   "execution_count": null,
   "metadata": {},
   "outputs": [],
   "source": [
    "plt.close('all')\n",
    "plt.figure()\n",
    "do_plot(1, mod_fwi, 'gray_r', '(a)', r\"FWI result (f = 20.6 Hz)\", vpmin, vpmax)\n",
    "#do_plot(1, mod_fwi, 'gray_r', '(a)', r\"Initial model\", vpmin, vpmax)\n",
    "do_plot(2, mod_true, 'gray_r', '(b)', r\"True Overthrust model\", vpmin, vpmax)\n",
    "#plt.savefig('test.png', format='png', dpi=100)\n",
    "plt.savefig('test.pdf', bbox_inches='tight', format='pdf')\n",
    "plt.tight_layout()\n",
    "plt.show()"
   ]
  },
  {
   "cell_type": "code",
   "execution_count": null,
   "metadata": {
    "collapsed": true
   },
   "outputs": [],
   "source": []
  }
 ],
 "metadata": {
  "kernelspec": {
   "display_name": "Python 2",
   "language": "python",
   "name": "python2"
  },
  "language_info": {
   "codemirror_mode": {
    "name": "ipython",
    "version": 2
   },
   "file_extension": ".py",
   "mimetype": "text/x-python",
   "name": "python",
   "nbconvert_exporter": "python",
   "pygments_lexer": "ipython2",
   "version": "2.7.13"
  }
 },
 "nbformat": 4,
 "nbformat_minor": 1
}
